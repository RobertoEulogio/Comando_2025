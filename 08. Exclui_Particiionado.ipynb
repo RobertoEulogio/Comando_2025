
dfpq = spark.read.parquet("/FileStore/tables/Anac/V_OCORRENCIA_AMPLAParquet")
display(dfpq)

dfpq.write \
    .partitionBy("Classificacao_da_Ocorrência") \
    .mode("overwrite") \
    .parquet("/FileStore/tables/Anac/parquet_particionado_2")

display(dbutils.fs.ls("dbfs:/FileStore/tables/Anac"))

# Comando para excluir pasta
%fs rm -r /FileStore/tables/Anac/parquet_particionado_2

display(dbutils.fs.ls("dbfs:/FileStore/tables/Anac"))

